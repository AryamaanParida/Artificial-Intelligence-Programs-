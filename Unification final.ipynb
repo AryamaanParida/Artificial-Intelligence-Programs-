{
  "nbformat": 4,
  "nbformat_minor": 0,
  "metadata": {
    "colab": {
      "name": "unification.ipynb",
      "provenance": [],
      "collapsed_sections": []
    },
    "kernelspec": {
      "name": "python3",
      "display_name": "Python 3.8.5 32-bit",
      "metadata": {
        "interpreter": {
          "hash": "d01af072e5aa1b233a306ef1faf409d89ea01efa5b48766e09150b8c6f45cf85"
        }
      }
    },
    "language_info": {
      "name": "python",
      "version": "3.8.5-final"
    }
  },
  "cells": [
    {
      "cell_type": "code",
      "metadata": {
        "id": "h7KG9JlLQDFS"
      },
      "source": [
        "class Expr:\n",
        "\n",
        "\n",
        "    def __init__(self, op, *args):\n",
        "        self.op = str(op)\n",
        "        self.args = args\n",
        "\n",
        "    # Operator overloads\n",
        "    def __neg__(self):\n",
        "        return Expr('-', self)\n",
        "\n",
        "    def __pos__(self):\n",
        "        return Expr('+', self)\n",
        "\n",
        "    def __invert__(self):\n",
        "        return Expr('~', self)\n",
        "\n",
        "    def __add__(self, rhs):\n",
        "        return Expr('+', self, rhs)\n",
        "\n",
        "    def __sub__(self, rhs):\n",
        "        return Expr('-', self, rhs)\n",
        "\n",
        "    def __mul__(self, rhs):\n",
        "        return Expr('*', self, rhs)\n",
        "\n",
        "    def __pow__(self, rhs):\n",
        "        return Expr('**', self, rhs)\n",
        "\n",
        "    def __mod__(self, rhs):\n",
        "        return Expr('%', self, rhs)\n",
        "\n",
        "    def __and__(self, rhs):\n",
        "        return Expr('&', self, rhs)\n",
        "\n",
        "    def __xor__(self, rhs):\n",
        "        return Expr('^', self, rhs)\n",
        "\n",
        "    def __rshift__(self, rhs):\n",
        "        return Expr('>>', self, rhs)\n",
        "\n",
        "    def __lshift__(self, rhs):\n",
        "        return Expr('<<', self, rhs)\n",
        "\n",
        "    def __truediv__(self, rhs):\n",
        "        return Expr('/', self, rhs)\n",
        "\n",
        "    def __floordiv__(self, rhs):\n",
        "        return Expr('//', self, rhs)\n",
        "\n",
        "    def __matmul__(self, rhs):\n",
        "        return Expr('@', self, rhs)\n",
        "\n",
        "    def __or__(self, rhs):\n",
        "       \n",
        "        if isinstance(rhs, Expression):\n",
        "            return Expr('|', self, rhs)\n",
        "        else:\n",
        "            return PartialExpr(rhs, self)\n",
        "\n",
        "    # Reverse operator overloads\n",
        "    def __radd__(self, lhs):\n",
        "        return Expr('+', lhs, self)\n",
        "\n",
        "    def __rsub__(self, lhs):\n",
        "        return Expr('-', lhs, self)\n",
        "\n",
        "    def __rmul__(self, lhs):\n",
        "        return Expr('*', lhs, self)\n",
        "\n",
        "    def __rdiv__(self, lhs):\n",
        "        return Expr('/', lhs, self)\n",
        "\n",
        "    def __rpow__(self, lhs):\n",
        "        return Expr('**', lhs, self)\n",
        "\n",
        "    def __rmod__(self, lhs):\n",
        "        return Expr('%', lhs, self)\n",
        "\n",
        "    def __rand__(self, lhs):\n",
        "        return Expr('&', lhs, self)\n",
        "\n",
        "    def __rxor__(self, lhs):\n",
        "        return Expr('^', lhs, self)\n",
        "\n",
        "    def __ror__(self, lhs):\n",
        "        return Expr('|', lhs, self)\n",
        "\n",
        "    def __rrshift__(self, lhs):\n",
        "        return Expr('>>', lhs, self)\n",
        "\n",
        "    def __rlshift__(self, lhs):\n",
        "        return Expr('<<', lhs, self)\n",
        "\n",
        "    def __rtruediv__(self, lhs):\n",
        "        return Expr('/', lhs, self)\n",
        "\n",
        "    def __rfloordiv__(self, lhs):\n",
        "        return Expr('//', lhs, self)\n",
        "\n",
        "    def __rmatmul__(self, lhs):\n",
        "        return Expr('@', lhs, self)\n",
        "\n",
        "    def __call__(self, *args):\n",
        "      \n",
        "        if self.args:\n",
        "            raise ValueError('Expression cant be called, only symbol is called')\n",
        "        else:\n",
        "            return Expr(self.op, *args)\n",
        "\n",
        "   \n",
        "    def __eq__(self, other):\n",
        "        \n",
        "        return isinstance(other, Expr) and self.op == other.op and self.args == other.args\n",
        "\n",
        "    def __lt__(self, other):\n",
        "        return isinstance(other, Expr) and str(self) < str(other)\n",
        "\n",
        "    def __hash__(self):\n",
        "        return hash(self.op) ^ hash(self.args)\n",
        "\n",
        "    def __repr__(self):\n",
        "        op = self.op\n",
        "        args = [str(arg) for arg in self.args]\n",
        "        if op.isidentifier():  # f(x) or f(x, y)\n",
        "            return '{}({})'.format(op, ', '.join(args)) if args else op\n",
        "        elif len(args) == 1:  # -x or -(x + 1)\n",
        "            return op + args[0]\n",
        "        else:  # (x - y)\n",
        "            opp = (' ' + op + ' ')\n",
        "            return '(' + opp.join(args) + ')'"
      ],
      "execution_count": 184,
      "outputs": []
    },
    {
      "cell_type": "code",
      "metadata": {
        "id": "A6n1TezTPjo9"
      },
      "source": [
        "def is_var(x):\n",
        "    return isinstance(x, Expr) and not x.args and x.op[0].islower()"
      ],
      "execution_count": 185,
      "outputs": []
    },
    {
      "cell_type": "code",
      "metadata": {
        "id": "xHC9Q5isNgLg"
      },
      "source": [
        "def unify_var(var, val, subst):\n",
        "    subst[var] = val ; return subst\n",
        "\n",
        "def performuni(sym1, sym2, subst):\n",
        "\n",
        "    if subst is False : return False\n",
        "    elif isinstance(sym1, str) and isinstance(sym2, str) and sym1 == sym2 : \n",
        "        print(sym1, \"is the same in both cases\")\n",
        "        return subst\n",
        "    elif isinstance(sym1, str) and is_var(sym2) : return unify_var(sym2, sym1, subst)\n",
        "    elif isinstance(sym2, str) and is_var(sym1) : return unify_var(sym1, sym2, subst)\n",
        "    elif isinstance(sym1, list) and isinstance(sym2, list) : \n",
        "        if len(sym1) == 0 and len(sym2) == 0 : return subst\n",
        "        return unify(sym1[1:],sym2[1:], unify(sym1[0], sym2[0], subst))\n",
        "    else:\n",
        "         print(\"Unification cannot take place\")"
      ],
      "execution_count": 186,
      "outputs": []
    },
    {
      "cell_type": "code",
      "metadata": {
        "id": "fGYljMQziVoo",
        "colab": {
          "base_uri": "https://localhost:8080/"
        },
        "outputId": "d56cebb6-4587-4260-82a5-65269d32d809"
      },
      "source": [
        "performuni(['a', 'b', 'a-b'], ['a', 'b',Expr('y')],{}) "
      ],
      "execution_count": 187,
      "outputs": [
        {
          "output_type": "stream",
          "name": "stdout",
          "text": [
            "a is the same in both cases\nb is the same in both cases\n"
          ]
        },
        {
          "output_type": "execute_result",
          "data": {
            "text/plain": [
              "{y: 'a-b'}"
            ]
          },
          "metadata": {},
          "execution_count": 187
        }
      ]
    },
    {
      "cell_type": "code",
      "metadata": {
        "colab": {
          "base_uri": "https://localhost:8080/"
        },
        "id": "dFbEiQoygKpx",
        "outputId": "4d5a1ba8-232b-4b45-e0ee-e589b52ea19c"
      },
      "source": [
        "performuni('p', Expr('y'), {})"
      ],
      "execution_count": 188,
      "outputs": [
        {
          "output_type": "execute_result",
          "data": {
            "text/plain": [
              "{y: 'p'}"
            ]
          },
          "metadata": {},
          "execution_count": 188
        }
      ]
    },
    {
      "cell_type": "code",
      "metadata": {
        "colab": {
          "base_uri": "https://localhost:8080/"
        },
        "id": "Y0Rha0RZNg5V",
        "outputId": "3545c858-b143-4e21-e6af-83eb1a148862"
      },
      "source": [
        "performuni('p','q',{})"
      ],
      "execution_count": 189,
      "outputs": [
        {
          "output_type": "stream",
          "name": "stdout",
          "text": [
            "Unification cannot take place\n"
          ]
        }
      ]
    }
  ]
}